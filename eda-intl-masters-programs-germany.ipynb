{
 "cells": [
  {
   "cell_type": "code",
   "execution_count": 1,
   "id": "35f58053",
   "metadata": {
    "_cell_guid": "b1076dfc-b9ad-4769-8c92-a6c4dae69d19",
    "_uuid": "8f2839f25d086af736a60e9eeb907d3b93b6e0e5",
    "execution": {
     "iopub.execute_input": "2024-03-29T04:59:39.909985Z",
     "iopub.status.busy": "2024-03-29T04:59:39.909293Z",
     "iopub.status.idle": "2024-03-29T04:59:40.922063Z",
     "shell.execute_reply": "2024-03-29T04:59:40.920776Z"
    },
    "papermill": {
     "duration": 1.020141,
     "end_time": "2024-03-29T04:59:40.924984",
     "exception": false,
     "start_time": "2024-03-29T04:59:39.904843",
     "status": "completed"
    },
    "tags": []
   },
   "outputs": [],
   "source": [
    "import numpy as np\n",
    "import pandas as pd"
   ]
  },
  {
   "cell_type": "code",
   "execution_count": 2,
   "id": "7fcb46f5",
   "metadata": {
    "execution": {
     "iopub.execute_input": "2024-03-29T04:59:40.931649Z",
     "iopub.status.busy": "2024-03-29T04:59:40.930725Z",
     "iopub.status.idle": "2024-03-29T04:59:40.985206Z",
     "shell.execute_reply": "2024-03-29T04:59:40.984031Z"
    },
    "papermill": {
     "duration": 0.060473,
     "end_time": "2024-03-29T04:59:40.987883",
     "exception": false,
     "start_time": "2024-03-29T04:59:40.927410",
     "status": "completed"
    },
    "tags": []
   },
   "outputs": [
    {
     "data": {
      "text/html": [
       "<div>\n",
       "<style scoped>\n",
       "    .dataframe tbody tr th:only-of-type {\n",
       "        vertical-align: middle;\n",
       "    }\n",
       "\n",
       "    .dataframe tbody tr th {\n",
       "        vertical-align: top;\n",
       "    }\n",
       "\n",
       "    .dataframe thead th {\n",
       "        text-align: right;\n",
       "    }\n",
       "</style>\n",
       "<table border=\"1\" class=\"dataframe\">\n",
       "  <thead>\n",
       "    <tr style=\"text-align: right;\">\n",
       "      <th></th>\n",
       "      <th>Degree Type</th>\n",
       "      <th>Course Title</th>\n",
       "      <th>Institution Name</th>\n",
       "      <th>City Name</th>\n",
       "      <th>Subject</th>\n",
       "      <th>Language</th>\n",
       "      <th>Beginning Semester</th>\n",
       "      <th>Duration</th>\n",
       "      <th>Tuition Fee</th>\n",
       "      <th>Detail Link</th>\n",
       "    </tr>\n",
       "  </thead>\n",
       "  <tbody>\n",
       "    <tr>\n",
       "      <th>0</th>\n",
       "      <td>Master's degree</td>\n",
       "      <td>Actuarial and Financial Mathematics</td>\n",
       "      <td>RPTU University of Kaiserslautern-Landau</td>\n",
       "      <td>Kaiserslautern</td>\n",
       "      <td>Mathematics</td>\n",
       "      <td>English</td>\n",
       "      <td>Winter semester, Summer semester</td>\n",
       "      <td>4 semesters</td>\n",
       "      <td>none</td>\n",
       "      <td>https://www2.daad.de/deutschland/studienangebo...</td>\n",
       "    </tr>\n",
       "    <tr>\n",
       "      <th>1</th>\n",
       "      <td>Master's degree</td>\n",
       "      <td>Advanced and Computational Mathematics – Inter...</td>\n",
       "      <td>Chemnitz University of Technology</td>\n",
       "      <td>Chemnitz</td>\n",
       "      <td>Mathematics</td>\n",
       "      <td>English</td>\n",
       "      <td>Winter semester, Summer semester</td>\n",
       "      <td>4 semesters</td>\n",
       "      <td>none</td>\n",
       "      <td>https://www2.daad.de/deutschland/studienangebo...</td>\n",
       "    </tr>\n",
       "    <tr>\n",
       "      <th>2</th>\n",
       "      <td>Master's degree</td>\n",
       "      <td>Advanced Architecture — From Urban Design to B...</td>\n",
       "      <td>Frankfurt University of Applied Sciences</td>\n",
       "      <td>Frankfurt am Main</td>\n",
       "      <td>Architecture</td>\n",
       "      <td>English</td>\n",
       "      <td>Summer semester</td>\n",
       "      <td>4 semesters</td>\n",
       "      <td>none</td>\n",
       "      <td>https://www2.daad.de/deutschland/studienangebo...</td>\n",
       "    </tr>\n",
       "    <tr>\n",
       "      <th>3</th>\n",
       "      <td>Master's degree</td>\n",
       "      <td>Advanced Computational Methods in Civil Engine...</td>\n",
       "      <td>RWTH Aachen University</td>\n",
       "      <td>Aachen</td>\n",
       "      <td>Civil Engineering</td>\n",
       "      <td>English</td>\n",
       "      <td>Winter semester, Summer semester</td>\n",
       "      <td>4 semesters</td>\n",
       "      <td>none</td>\n",
       "      <td>https://www2.daad.de/deutschland/studienangebo...</td>\n",
       "    </tr>\n",
       "    <tr>\n",
       "      <th>4</th>\n",
       "      <td>Master's degree</td>\n",
       "      <td>Advanced Functional Materials</td>\n",
       "      <td>Chemnitz University of Technology</td>\n",
       "      <td>Chemnitz</td>\n",
       "      <td>Chemistry</td>\n",
       "      <td>English</td>\n",
       "      <td>Winter semester</td>\n",
       "      <td>4 semesters</td>\n",
       "      <td>none</td>\n",
       "      <td>https://www2.daad.de/deutschland/studienangebo...</td>\n",
       "    </tr>\n",
       "  </tbody>\n",
       "</table>\n",
       "</div>"
      ],
      "text/plain": [
       "       Degree Type                                       Course Title  \\\n",
       "0  Master's degree                Actuarial and Financial Mathematics   \n",
       "1  Master's degree  Advanced and Computational Mathematics – Inter...   \n",
       "2  Master's degree  Advanced Architecture — From Urban Design to B...   \n",
       "3  Master's degree  Advanced Computational Methods in Civil Engine...   \n",
       "4  Master's degree                      Advanced Functional Materials   \n",
       "\n",
       "                           Institution Name          City Name  \\\n",
       "0  RPTU University of Kaiserslautern-Landau     Kaiserslautern   \n",
       "1         Chemnitz University of Technology           Chemnitz   \n",
       "2  Frankfurt University of Applied Sciences  Frankfurt am Main   \n",
       "3                    RWTH Aachen University             Aachen   \n",
       "4         Chemnitz University of Technology           Chemnitz   \n",
       "\n",
       "             Subject Language                Beginning Semester     Duration  \\\n",
       "0        Mathematics  English  Winter semester, Summer semester  4 semesters   \n",
       "1        Mathematics  English  Winter semester, Summer semester  4 semesters   \n",
       "2       Architecture  English                   Summer semester  4 semesters   \n",
       "3  Civil Engineering  English  Winter semester, Summer semester  4 semesters   \n",
       "4          Chemistry  English                   Winter semester  4 semesters   \n",
       "\n",
       "  Tuition Fee                                        Detail Link  \n",
       "0        none  https://www2.daad.de/deutschland/studienangebo...  \n",
       "1        none  https://www2.daad.de/deutschland/studienangebo...  \n",
       "2        none  https://www2.daad.de/deutschland/studienangebo...  \n",
       "3        none  https://www2.daad.de/deutschland/studienangebo...  \n",
       "4        none  https://www2.daad.de/deutschland/studienangebo...  "
      ]
     },
     "execution_count": 2,
     "metadata": {},
     "output_type": "execute_result"
    }
   ],
   "source": [
    "df = pd.read_csv(\"/kaggle/input/international-master-programs-in-germany-2024/daad_international_master_programs.csv\")\n",
    "df.head(5)"
   ]
  }
 ],
 "metadata": {
  "kaggle": {
   "accelerator": "none",
   "dataSources": [
    {
     "datasetId": 4635396,
     "sourceId": 7894428,
     "sourceType": "datasetVersion"
    }
   ],
   "dockerImageVersionId": 30673,
   "isGpuEnabled": false,
   "isInternetEnabled": true,
   "language": "python",
   "sourceType": "notebook"
  },
  "kernelspec": {
   "display_name": "Python 3",
   "language": "python",
   "name": "python3"
  },
  "language_info": {
   "codemirror_mode": {
    "name": "ipython",
    "version": 3
   },
   "file_extension": ".py",
   "mimetype": "text/x-python",
   "name": "python",
   "nbconvert_exporter": "python",
   "pygments_lexer": "ipython3",
   "version": "3.10.13"
  },
  "papermill": {
   "default_parameters": {},
   "duration": 4.782922,
   "end_time": "2024-03-29T04:59:41.511603",
   "environment_variables": {},
   "exception": null,
   "input_path": "__notebook__.ipynb",
   "output_path": "__notebook__.ipynb",
   "parameters": {},
   "start_time": "2024-03-29T04:59:36.728681",
   "version": "2.5.0"
  }
 },
 "nbformat": 4,
 "nbformat_minor": 5
}
